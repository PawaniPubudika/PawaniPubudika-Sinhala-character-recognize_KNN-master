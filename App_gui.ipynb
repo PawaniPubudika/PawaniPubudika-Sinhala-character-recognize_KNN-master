{
 "cells": [
  {
   "cell_type": "code",
   "execution_count": 1,
   "metadata": {},
   "outputs": [],
   "source": [
    "import tkinter as tk\n",
    "from PIL import ImageTk,Image,ImageDraw #as directly canvas cant convert to image\n",
    "import numpy\n",
    "import cv2\n",
    "import numpy as np\n",
    "import os\n",
    "import joblib\n"
   ]
  },
  {
   "cell_type": "code",
   "execution_count": null,
   "metadata": {},
   "outputs": [
    {
     "name": "stdout",
     "output_type": "stream",
     "text": [
      "අ\n",
      "ඉ\n",
      "උ\n",
      "උ\n",
      "ඉ\n",
      "අ\n",
      "උ\n",
      "උ\n",
      "ඉ\n",
      "උ\n",
      "ඉ\n",
      "උ\n",
      "ඉ\n",
      "ඉ\n"
     ]
    }
   ],
   "source": [
    "width = 500\n",
    "height = 500\n",
    "font_btn =\"Helvetica 20 bold\"\n",
    "font_label =\"Helvetica 22 bold\"\n",
    "\n",
    "model = joblib.load('sinhala_char_recognize_knn_ver0.1.sav')\n",
    "\n",
    "label_dict ={0:\"අ\",1:\"එ\" , 2:\"ඉ\", 3:\"උ\" }\n",
    "win=tk.Tk() \n",
    "count=0\n",
    "def event_function(event):\n",
    "    x=event.x\n",
    "    y=event.y\n",
    "    \n",
    "    x1=x-10\n",
    "    x2=x+10\n",
    "    y1=y-10\n",
    "    y2=y+10\n",
    "    canvas.create_oval((x1,y1,x2,y2),fill=\"black\")\n",
    "    img_draw.ellipse((x1,y1,x2,y2),fill=\"black\")\n",
    "#     print(event.x)\n",
    "\n",
    "def save():\n",
    "    global count\n",
    "    img_array = np.array(img)\n",
    "    img_aray=cv2.resize(img_array,(8,8))\n",
    "    path =os.path.join('data',str(count)+\".jpg\")\n",
    "    cv2.imwrite(path,img_array)\n",
    "    count=count+1\n",
    "\n",
    "def clear():\n",
    "    global img , img_draw\n",
    "    canvas.delete(\"all\");\n",
    "    \n",
    "    img=Image.new(\"RGB\",(width,height),(255,255,255));\n",
    "    img_draw=ImageDraw.Draw(img);#object that use to draw\n",
    "    \n",
    "    \n",
    "def predict():\n",
    "    \n",
    "    img_array = np.array(img)\n",
    "    #make gray , make 8*8  , flatern\n",
    "    img_array=cv2.cvtColor(img_array,cv2.COLOR_BGR2GRAY)#converting color\n",
    "    img_array = cv2.resize(img_array,(8,8))\n",
    "    img_array = np.reshape(img_array,(1,64))\n",
    "    result = model.predict(img_array)\n",
    "    label_data =result[0]\n",
    "    label_status.config(text='PREDICTED CHARACTER '+str(label_dict[label_data]))\n",
    "#     print(label_dict[label_data])\n",
    "    \n",
    "    \n",
    "    \n",
    "canvas = tk.Canvas(win,width=width,height=height,bg=\"white\") \n",
    "canvas.grid(row=0,column=0,columnspan=4)\n",
    "\n",
    "button_save = tk.Button(win,text='SAVE',bg='green',fg=\"white\",font=font_btn,command=save)\n",
    "button_save.grid(row=1,column=0)\n",
    "button_save = tk.Button(win,text='PREDICT',bg='blue',fg=\"white\",font=font_btn,command=predict)\n",
    "button_save.grid(row=1,column=1)\n",
    "button_save = tk.Button(win,text='CLEAR',bg='red',fg=\"white\",font=font_btn,command=clear)\n",
    "button_save.grid(row=1,column=2)\n",
    "button_save = tk.Button(win,text='EXIT',bg='yellow',fg=\"white\",font=font_btn,command=win.destroy)\n",
    "button_save.grid(row=1,column=3)\n",
    "\n",
    "canvas.bind('<B1-Motion>',event_function)\n",
    "\n",
    "img=Image.new(\"RGB\",(width,height),(255,255,255));\n",
    "img_draw=ImageDraw.Draw(img);#object that use to draw\n",
    "\n",
    "label_status = tk.Label(win,text=\"PREDICTED CHARACTER NONE\",bg='white',font=font_label)\n",
    "label_status.grid(row=2,column=0,columnspan=4) \n",
    "win.mainloop()"
   ]
  },
  {
   "cell_type": "code",
   "execution_count": null,
   "metadata": {},
   "outputs": [],
   "source": []
  },
  {
   "cell_type": "code",
   "execution_count": null,
   "metadata": {},
   "outputs": [],
   "source": []
  },
  {
   "cell_type": "code",
   "execution_count": null,
   "metadata": {},
   "outputs": [],
   "source": []
  },
  {
   "cell_type": "code",
   "execution_count": 7,
   "metadata": {},
   "outputs": [],
   "source": []
  },
  {
   "cell_type": "code",
   "execution_count": null,
   "metadata": {},
   "outputs": [],
   "source": []
  },
  {
   "cell_type": "code",
   "execution_count": null,
   "metadata": {},
   "outputs": [],
   "source": []
  },
  {
   "cell_type": "code",
   "execution_count": null,
   "metadata": {},
   "outputs": [],
   "source": []
  }
 ],
 "metadata": {
  "kernelspec": {
   "display_name": "Python 3",
   "language": "python",
   "name": "python3"
  },
  "language_info": {
   "codemirror_mode": {
    "name": "ipython",
    "version": 3
   },
   "file_extension": ".py",
   "mimetype": "text/x-python",
   "name": "python",
   "nbconvert_exporter": "python",
   "pygments_lexer": "ipython3",
   "version": "3.8.5"
  }
 },
 "nbformat": 4,
 "nbformat_minor": 4
}
